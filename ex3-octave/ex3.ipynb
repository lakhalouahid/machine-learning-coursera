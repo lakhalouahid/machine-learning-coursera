{
 "cells": [
  {
   "cell_type": "code",
   "execution_count": 1,
   "id": "6f44d1db",
   "metadata": {},
   "outputs": [],
   "source": [
    "%% Machine Learning Online Class - Exercise 3 | Part 1: One-vs-all\n",
    "\n",
    "%  Instructions\n",
    "%  ------------\n",
    "%\n",
    "%  This file contains code that helps you get started on the\n",
    "%  linear exercise. You will need to complete the following functions\n",
    "%  in this exericse:\n",
    "%\n",
    "%     lrCostFunction.m (logistic regression cost function)\n",
    "%     oneVsAll.m\n",
    "%     predictOneVsAll.m\n",
    "%     predict.m\n",
    "%\n",
    "%  For this exercise, you will not need to change any code in this file,\n",
    "%  or any other files other than those mentioned above.\n",
    "%"
   ]
  },
  {
   "cell_type": "code",
   "execution_count": 2,
   "id": "b28b4060",
   "metadata": {},
   "outputs": [],
   "source": [
    "%% Initialization\n",
    "clear ; close all; clc\n",
    "\n",
    "%% Setup the parameters you will use for this part of the exercise\n",
    "input_layer_size  = 400;  % 20x20 Input Images of Digits\n",
    "num_labels = 10;          % 10 labels, from 1 to 10\n",
    "                          % (note that we have mapped \"0\" to label 10)"
   ]
  },
  {
   "cell_type": "code",
   "execution_count": 3,
   "id": "c11603db",
   "metadata": {},
   "outputs": [
    {
     "name": "stdout",
     "output_type": "stream",
     "text": [
      "Loading and Visualizing Data ...\n",
      "Program paused. Press enter to continue.\n",
      "Paused, enter any value to continue\n"
     ]
    },
    {
     "data": {
      "image/png": "[encoded data removed]",
      "text/plain": [
       "<IPython.core.display.Image object>"
      ]
     },
     "metadata": {},
     "output_type": "display_data"
    }
   ],
   "source": [
    "%% =========== Part 1: Loading and Visualizing Data =============\n",
    "%  We start the exercise by first loading and visualizing the dataset.\n",
    "%  You will be working with a dataset that contains handwritten digits.\n",
    "%\n",
    "\n",
    "% Load Training Data\n",
    "fprintf('Loading and Visualizing Data ...\\n')\n",
    "\n",
    "load('ex3data1.mat'); % training data stored in arrays X, y\n",
    "m = size(X, 1);\n",
    "\n",
    "% Randomly select 100 data points to display\n",
    "rand_indices = randperm(m);\n",
    "sel = X(rand_indices(1:100), :);\n",
    "\n",
    "displayData(sel);\n",
    "\n",
    "fprintf('Program paused. Press enter to continue.\\n');\n",
    "pause;"
   ]
  },
  {
   "cell_type": "code",
   "execution_count": 4,
   "id": "0eb59978",
   "metadata": {},
   "outputs": [
    {
     "name": "stdout",
     "output_type": "stream",
     "text": [
      "\n",
      "Testing lrCostFunction() with regularization\n",
      "Cost: 2.534819\n",
      "Expected cost: 2.534819\n",
      "Gradients:\n",
      " 0.146561 \n",
      " -0.548558 \n",
      " 0.724722 \n",
      " 1.398003 \n",
      "Expected gradients:\n",
      " 0.146561\n",
      " -0.548558\n",
      " 0.724722\n",
      " 1.398003\n",
      "Program paused. Press enter to continue.\n",
      "Paused, enter any value to continue\n"
     ]
    }
   ],
   "source": [
    "%% ============ Part 2a: Vectorize Logistic Regression ============\n",
    "%  In this part of the exercise, you will reuse your logistic regression\n",
    "%  code from the last exercise. You task here is to make sure that your\n",
    "%  regularized logistic regression implementation is vectorized. After\n",
    "%  that, you will implement one-vs-all classification for the handwritten\n",
    "%  digit dataset.\n",
    "%\n",
    "\n",
    "% Test case for lrCostFunction\n",
    "fprintf('\\nTesting lrCostFunction() with regularization');\n",
    "\n",
    "theta_t = [-2; -1; 1; 2];\n",
    "X_t = [ones(5,1) reshape(1:15,5,3)/10];\n",
    "y_t = ([1;0;1;0;1] >= 0.5);\n",
    "lambda_t = 3;\n",
    "[J grad] = lrCostFunction(theta_t, X_t, y_t, lambda_t);\n",
    "\n",
    "fprintf('\\nCost: %f\\n', J);\n",
    "fprintf('Expected cost: 2.534819\\n');\n",
    "fprintf('Gradients:\\n');\n",
    "fprintf(' %f \\n', grad);\n",
    "fprintf('Expected gradients:\\n');\n",
    "fprintf(' 0.146561\\n -0.548558\\n 0.724722\\n 1.398003\\n');\n",
    "\n",
    "fprintf('Program paused. Press enter to continue.\\n');\n",
    "pause;"
   ]
  },
  {
   "cell_type": "code",
   "execution_count": 5,
   "id": "39b8dee1",
   "metadata": {},
   "outputs": [
    {
     "name": "stdout",
     "output_type": "stream",
     "text": [
      "\n",
      "Training One-vs-All Logistic Regression...\n",
      "Iteration   250 | Cost: 1.311469e-02\n",
      "Iteration   250 | Cost: 5.086794e-02\n",
      "Iteration   250 | Cost: 5.763880e-02\n",
      "Iteration   250 | Cost: 3.306692e-02\n",
      "Iteration   250 | Cost: 5.446704e-02\n",
      "Iteration   250 | Cost: 1.825733e-02\n",
      "Iteration   250 | Cost: 3.064402e-02\n",
      "Iteration   250 | Cost: 7.860316e-02\n",
      "Iteration   250 | Cost: 7.120089e-02\n",
      "Iteration   250 | Cost: 8.567884e-03\n",
      "Program paused. Press enter to continue.\n",
      "Paused, enter any value to continue\n"
     ]
    }
   ],
   "source": [
    "%% ============ Part 2b: One-vs-All Training ============\n",
    "fprintf('\\nTraining One-vs-All Logistic Regression...\\n')\n",
    "\n",
    "lambda = 0.1;\n",
    "[all_theta] = oneVsAll(X, y, num_labels, lambda);\n",
    "\n",
    "fprintf('Program paused. Press enter to continue.\\n');\n",
    "pause;"
   ]
  },
  {
   "cell_type": "code",
   "execution_count": null,
   "id": "76dd5376",
   "metadata": {},
   "outputs": [],
   "source": [
    "%% ================ Part 3: Predict for One-Vs-All ================\n",
    "\n",
    "pred = predictOneVsAll(all_theta, X);\n",
    "\n",
    "fprintf('\\nTraining Set Accuracy: %f\\n', mean(double(pred == y)) * 100);"
   ]
  }
 ],
 "metadata": {
  "kernelspec": {
   "display_name": "Octave",
   "language": "octave",
   "name": "octave"
  },
  "language_info": {
   "file_extension": ".m",
   "help_links": [
    {
     "text": "GNU Octave",
     "url": "https://www.gnu.org/software/octave/support.html"
    },
    {
     "text": "Octave Kernel",
     "url": "https://github.com/Calysto/octave_kernel"
    },
    {
     "text": "MetaKernel Magics",
     "url": "https://metakernel.readthedocs.io/en/latest/source/README.html"
    }
   ],
   "mimetype": "text/x-octave",
   "name": "octave",
   "version": "6.4.0"
  }
 },
 "nbformat": 4,
 "nbformat_minor": 5
}
